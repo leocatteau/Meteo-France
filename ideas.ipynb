{
 "cells": [
  {
   "cell_type": "markdown",
   "metadata": {},
   "source": [
    "### Notes à idées"
   ]
  },
  {
   "cell_type": "markdown",
   "metadata": {},
   "source": [
    "Rapport:\n",
    "\n",
    "- notebook suivant (copié) le rapport de stage en appelant explicitement le code pour reconstruire les résultats des expéreinces et illustrer l'utilisation de la librairie."
   ]
  },
  {
   "cell_type": "markdown",
   "metadata": {},
   "source": [
    "Machine Learning:\n",
    "\n",
    "- coder la regression linéaire en neural net pytorch pour meilleure comparaison mais aussi avoir la main sur le training (entrainer à la reconstruction des trous et pas au fit de tout le model --> loss backward après l'utilisation du mask)"
   ]
  },
  {
   "cell_type": "markdown",
   "metadata": {},
   "source": [
    "Théorie/météo:\n",
    "\n",
    "-"
   ]
  }
 ],
 "metadata": {
  "language_info": {
   "name": "python"
  }
 },
 "nbformat": 4,
 "nbformat_minor": 2
}
