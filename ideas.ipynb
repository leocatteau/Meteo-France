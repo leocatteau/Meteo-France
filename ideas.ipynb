{
 "cells": [
  {
   "cell_type": "markdown",
   "metadata": {},
   "source": [
    "### Notes à idées"
   ]
  },
  {
   "cell_type": "markdown",
   "metadata": {},
   "source": [
    "Deliverables:\n",
    "\n",
    "- notebook suivant (copié) le rapport de stage en appelant explicitement le code pour reconstruire les résultats des expéreinces et illustrer l'utilisation de la librairie.\n",
    "- plan methode:\\\n",
    "    data info et objectif/possibles modèles\n",
    "    - baseline mathématique \n",
    "    - GNN + RNN\n",
    "        - construction du graph AMP (Umap des predicteurs)\n",
    "        - modèle (maths et data process/intuition et vraie idée de cette architecture -> dessin ?)\n",
    "        - métriques de réanalyse\n",
    "    - Autres modèles (CNN, RNN + GAN) \\\n",
    "    récapitulatif de métriques basiques pour arbitrage\n",
    "- résultats: après reconstruction du dataset, métriques physiques pour la réanalyse "
   ]
  },
  {
   "cell_type": "markdown",
   "metadata": {},
   "source": [
    "Machine Learning:\n",
    "\n",
    "- coder la regression linéaire en neural net pytorch pour meilleure comparaison mais aussi avoir la main sur le training (entrainer à la reconstruction des trous et pas au fit de tout le model --> loss backward après l'utilisation du mask)\n",
    "\n",
    "- training en pass sur séries complétées step après step, ou training random par complétion de step ? \n",
    "\n",
    "- différence de régime passé lointain: forecast/imputation ou out-of-sample/in-sample imputation ? \n",
    "\n",
    "- MLP entre foreward et backward pass pourrait être entrainé avec différentes distributions de masking inhomogènes (avec la distribution en predicteur?) pour ensuite le passer sur l'inhomogeneité connue du dataset "
   ]
  },
  {
   "cell_type": "markdown",
   "metadata": {},
   "source": [
    "Théorie/météo:\n",
    "\n",
    "- Est ce que la physique du climat à une symmétrie par inversion du temps ? L'instabilité des modèles non linéaires par inversion du temps ne vient que de la sensibilité aux conditions initiales ou il y à autre chose ? "
   ]
  }
 ],
 "metadata": {
  "language_info": {
   "name": "python"
  }
 },
 "nbformat": 4,
 "nbformat_minor": 2
}
