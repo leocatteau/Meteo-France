{
 "cells": [
  {
   "cell_type": "code",
   "execution_count": null,
   "id": "03aa2616",
   "metadata": {},
   "outputs": [],
   "source": [
    "import numpy as np\n",
    "import pandas as pd\n",
    "import torch\n",
    "import matplotlib.pyplot as plt\n",
    "import seaborn as sns\n",
    "\n",
    "import sys\n",
    "sys.path.append('..')"
   ]
  },
  {
   "cell_type": "markdown",
   "id": "48baa559",
   "metadata": {},
   "source": [
    "This notebook is a guide for the neural networks based models of the library of the project \"\". :)\n",
    "\n",
    "Météo-France, CNRS, CNRM, Centre d’Etudes de la Neige \\\n",
    "Léo Catteau, Spring 2025"
   ]
  },
  {
   "cell_type": "markdown",
   "id": "6958cab9",
   "metadata": {},
   "source": [
    "### Contents:\n",
    "* [Training](#first-bullet)\n",
    "* [Imputation](#second-bullet)"
   ]
  },
  {
   "cell_type": "markdown",
   "id": "baae5248",
   "metadata": {},
   "source": [
    "All neural networks based models are trained following the same procedure implemented by the Filler. "
   ]
  },
  {
   "cell_type": "markdown",
   "id": "e809e980",
   "metadata": {},
   "source": [
    "### Training <a class=\"anchor\" id=\"first-bullet\"></a>"
   ]
  },
  {
   "cell_type": "markdown",
   "id": "2be33ec8",
   "metadata": {},
   "source": [
    "TBC"
   ]
  }
 ],
 "metadata": {
  "language_info": {
   "name": "python"
  }
 },
 "nbformat": 4,
 "nbformat_minor": 5
}
